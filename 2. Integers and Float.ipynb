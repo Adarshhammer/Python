{
 "cells": [
  {
   "cell_type": "code",
   "execution_count": 2,
   "metadata": {},
   "outputs": [
    {
     "name": "stdout",
     "output_type": "stream",
     "text": [
      "<class 'int'>\n",
      "<class 'float'>\n"
     ]
    }
   ],
   "source": [
    "# Numbers are most commonly represented by Integers and Floats \n",
    "# An integer is a whole number and a Float is a decimal Number\n",
    "\n",
    "num = 3 # Setting a variable num with the value of 3\n",
    "print(type(num))  # type() returns int\n",
    "\n",
    "decimal = 3.14 # Setting the variable decimal with the value of 3.14\n",
    "print(type(decimal))  # type() returns float "
   ]
  },
  {
   "cell_type": "code",
   "execution_count": 6,
   "metadata": {},
   "outputs": [
    {
     "name": "stdout",
     "output_type": "stream",
     "text": [
      "1\n",
      "6\n",
      "1.5\n",
      "1\n",
      "9\n",
      "1\n",
      "0\n",
      "0\n",
      "1\n",
      "0\n",
      "1\n"
     ]
    }
   ],
   "source": [
    "# Arithmetic Operations using Integers\n",
    "# Addition: 3 + 2\n",
    "# Subtraction: 3 - 2\n",
    "# Multiplication: 3 * 2\n",
    "# Division: 3 / 2\n",
    "# Floor Division: 3 // 2\n",
    "# Exponent: 3 ** 2\n",
    "# Modulus: 3 % 2\n",
    "\n",
    "print(3 - 2)\n",
    "print(3 * 2)\n",
    "print(3 / 2)\n",
    "\n",
    "print(3 // 2)  # Floor Division removes decimal and only returns the whole number\n",
    "print(3 ** 2)  # Exponent here means 3 to the 2nd power or 3(squared)\n",
    "print(3 % 2)   # Modulus or Modulo operator returns the remainder of an operation. This operation will return 1 \n",
    "print(4 % 2)   # This operation will return 0 since there will not be any remainder\n",
    "\n",
    "# Modulo operations can also be used to identify and separate even/odd number(s) since the remainder can always be 0/1\n",
    "# When doing a %2 against any number if the remainder is 0 then the number is Even otherwise its Odd\n",
    "print(2 % 2)\n",
    "print(3 % 2)\n",
    "print(4 % 2)\n",
    "print(5 % 2)"
   ]
  },
  {
   "cell_type": "code",
   "execution_count": 7,
   "metadata": {},
   "outputs": [
    {
     "name": "stdout",
     "output_type": "stream",
     "text": [
      "7\n",
      "9\n"
     ]
    }
   ],
   "source": [
    "# Setting and Testing order of Operations using Parenthesis \n",
    "print(3 * 2 + 1)\n",
    "\n",
    "# and\n",
    "print(3 * (2 + 1)) # The result changes because parenthesis are given the first preference in any operation in Python\n"
   ]
  },
  {
   "cell_type": "code",
   "execution_count": 9,
   "metadata": {},
   "outputs": [
    {
     "ename": "SyntaxError",
     "evalue": "invalid syntax (46858090.py, line 5)",
     "output_type": "error",
     "traceback": [
      "\u001b[1;36m  Cell \u001b[1;32mIn[9], line 5\u001b[1;36m\u001b[0m\n\u001b[1;33m    print(num += 1)\u001b[0m\n\u001b[1;37m              ^\u001b[0m\n\u001b[1;31mSyntaxError\u001b[0m\u001b[1;31m:\u001b[0m invalid syntax\n"
     ]
    }
   ],
   "source": [
    "# Incrementing a Number\n",
    "num = 1 \n",
    "num += 1\n",
    "print(num = num + 1)\n",
    "print(num)\n",
    "# Both will result in same output "
   ]
  }
 ],
 "metadata": {
  "kernelspec": {
   "display_name": "Python 3",
   "language": "python",
   "name": "python3"
  },
  "language_info": {
   "codemirror_mode": {
    "name": "ipython",
    "version": 3
   },
   "file_extension": ".py",
   "mimetype": "text/x-python",
   "name": "python",
   "nbconvert_exporter": "python",
   "pygments_lexer": "ipython3",
   "version": "3.11.5"
  },
  "orig_nbformat": 4
 },
 "nbformat": 4,
 "nbformat_minor": 2
}
