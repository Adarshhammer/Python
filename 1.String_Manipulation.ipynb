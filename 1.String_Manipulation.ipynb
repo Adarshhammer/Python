{
 "cells": [
  {
   "cell_type": "code",
   "execution_count": 1,
   "metadata": {},
   "outputs": [
    {
     "name": "stdout",
     "output_type": "stream",
     "text": [
      "Hello World\n"
     ]
    }
   ],
   "source": [
    "# Working with Textual Data\n",
    "print(\"Hello World\")"
   ]
  },
  {
   "cell_type": "code",
   "execution_count": 1,
   "metadata": {},
   "outputs": [
    {
     "name": "stdout",
     "output_type": "stream",
     "text": [
      "Hello World\n"
     ]
    }
   ],
   "source": [
    "# Adding variables (Must always be lowercase and descriptive as possible)\n",
    "message = \"Hello World\"\n",
    "print(message)"
   ]
  },
  {
   "cell_type": "code",
   "execution_count": 4,
   "metadata": {},
   "outputs": [
    {
     "name": "stdout",
     "output_type": "stream",
     "text": [
      "\"Hello Everyone, How's it going ?\n",
      "I hope its going good. Learning Python is fun\n"
     ]
    }
   ],
   "source": [
    "# Multiline textual data in python\n",
    "message = \"\"\"\"Hello Everyone, How's it going ?\n",
    "I hope its going good. Learning Python is fun\"\"\"\n",
    "print (message)"
   ]
  },
  {
   "cell_type": "code",
   "execution_count": 2,
   "metadata": {},
   "outputs": [
    {
     "name": "stdout",
     "output_type": "stream",
     "text": [
      "11\n",
      "H\n",
      "e\n",
      "l\n",
      "l\n",
      "o\n",
      " \n",
      "W\n",
      "o\n",
      "r\n",
      "l\n",
      "d\n"
     ]
    }
   ],
   "source": [
    "# Learning String Manipulation \n",
    "message = \"Hello World\"\n",
    "\n",
    "# Finding the length of the string\n",
    "print(len(message))\n",
    "\n",
    "## Accessing the string elements individually using [] and providing index values in the []\n",
    "i = 0 \n",
    "for i in range (len(message)):\n",
    "    print(message[i])\n",
    "    i = i+1\n"
   ]
  },
  {
   "cell_type": "code",
   "execution_count": 5,
   "metadata": {},
   "outputs": [
    {
     "name": "stdout",
     "output_type": "stream",
     "text": [
      "Hello\n",
      "Hello\n",
      "World :)\n"
     ]
    }
   ],
   "source": [
    "# Learning String Slicing\n",
    "message = \"Hello World :)\"\n",
    "\n",
    "print(message[0:5])   \n",
    "# Here the first index [0] is inclusive whereas the end index [5] is not.\n",
    "# By specifying this we are telling the system that we need all the characters between and upto but not including the last index\n",
    "\n",
    "# Not specifying a starting index will make the program assume the starting of string as its default value\n",
    "print (message[:5])  # This code will return the same value as the above code\n",
    "\n",
    "# The opposite of this is also true. By not specifying the end index, Python will run it to the end of string index.\n",
    "print(message[6:])"
   ]
  },
  {
   "cell_type": "code",
   "execution_count": 7,
   "metadata": {},
   "outputs": [
    {
     "name": "stdout",
     "output_type": "stream",
     "text": [
      "hello world\n",
      "HELLO WORLD\n"
     ]
    }
   ],
   "source": [
    "# Turning the message/string into lowercase \n",
    "message = \"Hello World\"\n",
    "print (message.lower())     # .lower() should always be run with parenthesis () to convert any string to lowercase.\n",
    "\n",
    "# Turning the message/string into uppercase\n",
    "print (message.upper())     # .upper() should always be run with parenthesis () to convert any string to uppercase."
   ]
  },
  {
   "cell_type": "code",
   "execution_count": 9,
   "metadata": {},
   "outputs": [
    {
     "name": "stdout",
     "output_type": "stream",
     "text": [
      "1\n",
      "3\n"
     ]
    }
   ],
   "source": [
    "# Understanding .count() method in python to find out how many times an element appears in a given string.\n",
    "message = \"Hello World\"\n",
    "print (message.count(\"Hello\"))  # Here .count() will take a string as argument to search for in the given list (message) to find the number of times it appears\n",
    "print (message.count(\"l\"))      # it also works on a single element as well\n",
    "\n"
   ]
  },
  {
   "cell_type": "code",
   "execution_count": 11,
   "metadata": {},
   "outputs": [
    {
     "name": "stdout",
     "output_type": "stream",
     "text": [
      "6\n",
      "-1\n"
     ]
    }
   ],
   "source": [
    "# Understand.find() method to determine the index of a specific element in a given string.\n",
    "message = \"Hello World\"\n",
    "print (message.find(\"World\"))  # Here .find() also takes an argument in the form of a string value and returns the starting index from where the argument begins in our string\n",
    "print (message.find(\"Uno\"))    # Here .find() will return the value of -1 since the value doesn't exist in the Given string."
   ]
  },
  {
   "cell_type": "code",
   "execution_count": 16,
   "metadata": {},
   "outputs": [
    {
     "name": "stdout",
     "output_type": "stream",
     "text": [
      "Hello World\n",
      "Hello World\n",
      "Hello Universe\n",
      "Hello Universe\n"
     ]
    }
   ],
   "source": [
    "# Understand .replace() method to replace existing elements of a string and changing them with new ones\n",
    "message = \"Hello World\"\n",
    "print (message)\n",
    "\n",
    "new_message = message.replace(\"World\",\"Universe\")  \n",
    "# Here .replace() method takes in 2 arguments. The first one being the argument that already exists\n",
    "# The second one being the argument that you want to replace in the place of First argument\n",
    "print(message)  # Here we find that the value of message hasn't been changed as we did't specify where we want to make this change to\n",
    "print(new_message)\n",
    "\n",
    "# If we want to make changes to the same message variable we will need to assign it to let python know we want to change it\n",
    "message = message.replace(\"World\",\"Universe\")\n",
    "print(message)"
   ]
  },
  {
   "cell_type": "code",
   "execution_count": 26,
   "metadata": {},
   "outputs": [
    {
     "name": "stdout",
     "output_type": "stream",
     "text": [
      "HelloAdarsh\n",
      "Hello, Adarsh\n",
      "Hello, Adarsh. Welcome to Basics of Python!\n",
      "Hello, Adarsh. Welcome to Basics of Python! Have fun!\n",
      "Hello, Adarsh. Welcome to Basics of Python! Have Fun!\n",
      "Hello, ADARSH. Welcome to Basics of F-Strings in Python!\n"
     ]
    }
   ],
   "source": [
    "# Adding multiple strings and concatenating them together\n",
    "greeting = \"Hello\"\n",
    "name = \"Adarsh\"\n",
    "\n",
    "message = greeting + name # Here we are adding 2 strings into one using + operator\n",
    "print (message)  # The output will be concatenated string without any spaces\n",
    "\n",
    "# To add a space between our concatenated string, We must assign a string literal between them\n",
    "message = greeting + \", \" + name  # By putting a string literal between 2 concatenated strings, the output should have a space between them\n",
    "print (message) # This should give us the desired output\n",
    "\n",
    "# We can get creative and add more things to the concatenated strings in the process\n",
    "message = greeting + \", \" + name + \". Welcome to Basics of Python!\"\n",
    "print(message)\n",
    "\n",
    "# Adding plus signs and spacing works for a small scale concatenation but in concatenations with more complex strings we can use placeholders in a pre-formatted string\n",
    "greeting = \"Hello\"\n",
    "name = \"Adarsh\"\n",
    "\n",
    "message = \"{}, {}. Welcome to Basics of Python! Have fun!\".format(greeting, name) # The following code will also give the same output with less hassle\n",
    "print (message)  # The {} here are the placeholders for the values that we want to supply \n",
    "\n",
    "# Another way of easy concatenation is by using F-strings. F-strings let us pass variables directly into the placeholders thereby eliminating more complexity\n",
    "message = f\"{greeting}, {name}. Welcome to Basics of Python! Have Fun!\"\n",
    "print(message)\n",
    "\n",
    "# F-strings allow us to better set our strings according to our preferences\n",
    "message = f\"{greeting}, {name.upper()}. Welcome to Basics of F-Strings in Python!\"  # F-string allowed us to modify the value through variable itself\n",
    "print(message)"
   ]
  }
 ],
 "metadata": {
  "kernelspec": {
   "display_name": "Python 3",
   "language": "python",
   "name": "python3"
  },
  "language_info": {
   "codemirror_mode": {
    "name": "ipython",
    "version": 3
   },
   "file_extension": ".py",
   "mimetype": "text/x-python",
   "name": "python",
   "nbconvert_exporter": "python",
   "pygments_lexer": "ipython3",
   "version": "3.11.5"
  },
  "orig_nbformat": 4
 },
 "nbformat": 4,
 "nbformat_minor": 2
}
